{
 "cells": [
  {
   "cell_type": "code",
   "execution_count": 1,
   "metadata": {},
   "outputs": [],
   "source": [
    "import numpy as np\n",
    "import csv \n",
    "from geopy.distance import geodesic\n",
    "import json"
   ]
  },
  {
   "cell_type": "code",
   "execution_count": 3,
   "metadata": {},
   "outputs": [],
   "source": [
    "# The input file name is convertcsv.csv\n",
    "# The output file name is updated_list.csv\n",
    "# It expects the fields to be in the order: latitude\tlongitude\taltitude\tgeometry\tpower\tid\ts1\ts2\n",
    "# At least maintain latitude and longitude as the first and second column && s1 and s2 as the 7th and 8th column\n",
    "def add_distance_columns():\n",
    "    fields = [] \n",
    "    rows = [] \n",
    "    with open('convertcsv.csv','r+') as csvfile:\n",
    "        csvreader = csv.reader(csvfile, delimiter=',')\n",
    "        fields = next(csvreader)\n",
    "        for row in csvreader: \n",
    "            rows.append(row)\n",
    "\n",
    "        for i in range(1, len(rows)-1):\n",
    "            current = (rows[i][0], rows[i][1])\n",
    "            prev = (rows[i-1][0], rows[i-1][1])\n",
    "            after = (rows[i+1][0], rows[i+1][1])\n",
    "            rows[i][6] = geodesic(prev, current).m\n",
    "            rows[i][7] = geodesic(current, after).m\n",
    "\n",
    "        i = 0\n",
    "        current = (rows[i][0], rows[i][1])\n",
    "        after = (rows[i+1][0], rows[i+1][1])\n",
    "        rows[i][6] = 0\n",
    "        rows[i][7] = geodesic(current, after).m\n",
    "\n",
    "        i = len(rows)-1\n",
    "        current = (rows[i][0], rows[i][1])\n",
    "        prev = (rows[i-1][0], rows[i-1][1])\n",
    "        rows[i][6] = geodesic(prev, current).m\n",
    "        rows[i][7] = 0\n",
    "\n",
    "        with open('updated_list.csv', 'w') as csvfile:\n",
    "            csvwriter = csv.writer(csvfile)\n",
    "            csvwriter.writerow(fields)\n",
    "            csvwriter.writerows(rows)"
   ]
  },
  {
   "cell_type": "code",
   "execution_count": null,
   "metadata": {},
   "outputs": [],
   "source": []
  }
 ],
 "metadata": {
  "kernelspec": {
   "display_name": "Python 3",
   "language": "python",
   "name": "python3"
  },
  "language_info": {
   "codemirror_mode": {
    "name": "ipython",
    "version": 3
   },
   "file_extension": ".py",
   "mimetype": "text/x-python",
   "name": "python",
   "nbconvert_exporter": "python",
   "pygments_lexer": "ipython3",
   "version": "3.7.5"
  }
 },
 "nbformat": 4,
 "nbformat_minor": 2
}
