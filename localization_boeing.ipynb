{
 "cells": [
  {
   "cell_type": "code",
   "execution_count": 69,
   "metadata": {},
   "outputs": [],
   "source": [
    "import pandas as pd\n",
    "import numpy as np\n",
    "import matplotlib.pyplot as plt\n",
    "from sklearn.cluster import DBSCAN\n",
    "from sklearn import metrics\n",
    "from shapely.geometry import MultiPoint\n",
    "from sklearn.metrics.pairwise import haversine_distances"
   ]
  },
  {
   "cell_type": "code",
   "execution_count": 70,
   "metadata": {},
   "outputs": [],
   "source": [
    "def find_centroid(cluster):\n",
    "    centroid = MultiPoint(cluster).centroid\n",
    "    return [centroid.x, centroid.y]"
   ]
  },
  {
   "cell_type": "code",
   "execution_count": 71,
   "metadata": {},
   "outputs": [],
   "source": [
    "def dbscan():\n",
    "    df = pd.read_csv('trimmed.csv')\n",
    "    data = df.loc[:, ['latitude', 'longitude']] # take only the latitude and longitude\n",
    "    array = data.to_numpy() # Converted to numpy array\n",
    "    # dbscan requires everything to be passed in as radians\n",
    "    kms_in_radian = 6371000\n",
    "    eps = 50/kms_in_radian\n",
    "    db = DBSCAN(eps = eps, min_samples=6, algorithm=\"ball_tree\", metric=\"haversine\", n_jobs=-1)\n",
    "    results=db.fit_predict(np.radians(array))\n",
    "    clusters = pd.Series(array[db.labels_==label] for label in set(db.labels_) if label!=-1)\n",
    "    \n",
    "    cluster_center = clusters.map(find_centroid)\n",
    "    cluster_center = np.stack(cluster_center.to_numpy())\n",
    "    print(\"Silhouette coefficient is {}\".format(metrics.silhouette_score(array, db.labels_)))\n",
    "    \n",
    "    return cluster_center\n",
    "    "
   ]
  },
  {
   "cell_type": "code",
   "execution_count": 75,
   "metadata": {},
   "outputs": [
    {
     "name": "stdout",
     "output_type": "stream",
     "text": [
      "Silhouette coefficient is 0.7784287056418805\n",
      "[ 4.28607097 12.83899117  8.79966194 11.94213393 13.99092313  3.67928401\n",
      "  3.45069202  4.05967764 21.85065967 18.40810344  9.53658977 19.5946282\n",
      "  9.73549026  4.99267114  6.8192461   3.46820934 10.78692971 11.66175354\n",
      "  2.75807896  3.2524791 ]\n",
      "Mean error is 9.29561370221224m\n",
      "Maximum error is 21.850659671841143m\n"
     ]
    }
   ],
   "source": [
    "def find_Error(cluster_center, true_data):\n",
    "    radians_in_m = 6371000\n",
    "    result = haversine_distances(np.radians(true_data), np.radians(cluster_centers)) * radians_in_m\n",
    "    min_distances = result.min(axis=1)\n",
    "\n",
    "    print(min_distances)\n",
    "    new_cluster_center = cluster_centers[np.argmin(result, axis=1)]\n",
    "    print(\"Mean error is {}m\".format(min_distances.mean()))\n",
    "    print(\"Maximum error is {}m\".format(min_distances.max()))\n",
    "    \n",
    "true_data = [[29.70154390339952, -95.39209601022654],[29.70428338419638, -95.39100648039813], [29.703335743447496, -95.39130824050142], [29.702188761458533, -95.3936918414558], [29.702691697389692, -95.39530032710667], [29.703085520490866, -95.39629883360872], [29.722233773075338, -95.36705220231357],[29.72526628586194, -95.37240452291601], [29.72734309820575, -95.375255487577], [29.728189612898646, -95.37701142524726],[29.729725295675568, -95.38003134004325], [29.73117267948174, -95.38260255498517],[29.731857687219605, -95.38404510951365],[29.756970123575087, -95.37525775033865], [29.7552538566023, -95.37571750526642],[29.755200480497276, -95.3794874504529],[29.75464650875399, -95.38024579642178],[29.754603020003177, -95.38300456681712],[29.752629019819906, -95.38306070220811], [29.752095895517666, -95.38491481879633]]\n",
    "true_data = np.array(true_data)\n",
    "\n",
    "cluster_centers = dbscan()\n",
    "find_Error(cluster_centers, true_data)"
   ]
  },
  {
   "cell_type": "code",
   "execution_count": null,
   "metadata": {},
   "outputs": [],
   "source": []
  }
 ],
 "metadata": {
  "kernelspec": {
   "display_name": "Python 3",
   "language": "python",
   "name": "python3"
  },
  "language_info": {
   "codemirror_mode": {
    "name": "ipython",
    "version": 3
   },
   "file_extension": ".py",
   "mimetype": "text/x-python",
   "name": "python",
   "nbconvert_exporter": "python",
   "pygments_lexer": "ipython3",
   "version": "3.7.5"
  }
 },
 "nbformat": 4,
 "nbformat_minor": 2
}
