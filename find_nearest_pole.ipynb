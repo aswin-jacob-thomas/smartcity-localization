{
 "cells": [
  {
   "cell_type": "code",
   "execution_count": 3,
   "metadata": {},
   "outputs": [
    {
     "name": "stdout",
     "output_type": "stream",
     "text": [
      "cluster location --> (29.760192983939383, -95.35561792706343)  and the nearest pole number --> 63\n",
      "cluster location --> (29.758972895810967, -95.35557190210065)  and the nearest pole number --> 63\n",
      "cluster location --> (29.746989911147924, -95.37784098771208)  and the nearest pole number --> 257\n",
      "cluster location --> (29.765533935106074, -95.37700499059427)  and the nearest pole number --> 147\n",
      "cluster location --> (29.759415945319642, -95.35397486246876)  and the nearest pole number --> 63\n",
      "cluster location --> (29.74934497364246, -95.37767794933187)  and the nearest pole number --> 252\n",
      "cluster location --> (29.76461989315768, -95.37515496841688)  and the nearest pole number --> 144\n",
      "cluster location --> (29.76438290138207, -95.37709298514051)  and the nearest pole number --> 141\n",
      "cluster location --> (29.750490941221106, -95.35595187693775)  and the nearest pole number --> 94\n",
      "cluster location --> (29.751810951186748, -95.3553819034064)  and the nearest pole number --> 94\n",
      "Total time taken to run the algorithm is  625.2334117889404\n"
     ]
    }
   ],
   "source": [
    "import json\n",
    "import numpy as np\n",
    "import requests\n",
    "from geopy.distance import geodesic\n",
    "from itertools import product\n",
    "import utm\n",
    "import time\n",
    "\n",
    "# url = 'https://sk4a447dkf.execute-api.us-east-1.amazonaws.com/default/localize'\n",
    "# json_data = requests.get(url).json()\n",
    "# data = json_data['objects']\n",
    "\n",
    "# cluster_objects = [(cluster['cluster_latitude'], cluster['cluster_longitude']) for cluster in data ]\n",
    "with open('houston.json') as cluster_data:\n",
    "    json_data = json.load(cluster_data)\n",
    "cluster_objects = []\n",
    "for cluster in json_data:\n",
    "    cluster_objects.append(utm.to_latlon(cluster['A'], cluster['B'], 15, \"R\"))\n",
    "    \n",
    "with open('Pole.geojson') as data:\n",
    "    pole_data = json.loads(data.read())\n",
    "\n",
    "poles = [(pole['geometry']['coordinates'][1],pole['geometry']['coordinates'][0]) for pole in pole_data['features']]\n",
    "start = time.time()\n",
    "for cluster in cluster_objects:\n",
    "    distances = []\n",
    "    for pole in poles:\n",
    "        distances.append(geodesic(pole, cluster).km)\n",
    "    print(\"cluster location -->\", cluster, \" and the nearest pole number -->\", distances.index(min(distances)))\n",
    "\n",
    "end = time.time()\n",
    "print(\"Total time taken to run the algorithm is \",(end-start)*1000)"
   ]
  },
  {
   "cell_type": "code",
   "execution_count": 28,
   "metadata": {},
   "outputs": [
    {
     "name": "stdout",
     "output_type": "stream",
     "text": [
      "Running time of the algorithm 1.6279220581054688\n"
     ]
    },
    {
     "data": {
      "text/plain": [
       "array([ 63,  63, 257, 147,  63, 252, 144, 141,  94,  94])"
      ]
     },
     "execution_count": 28,
     "metadata": {},
     "output_type": "execute_result"
    }
   ],
   "source": [
    "from sklearn.metrics.pairwise import haversine_distances\n",
    "pole_array = []\n",
    "cluster_array = []\n",
    "for pole in poles:\n",
    "    pole_array.append(np.array(pole))\n",
    "pole_array = np.array(pole_array)\n",
    "\n",
    "for cluster in cluster_objects:\n",
    "    cluster_array.append(np.array(cluster))\n",
    "cluster_array = np.array(cluster_array)\n",
    "start = time.time()\n",
    "result = haversine_distances(np.radians(cluster_array), np.radians(pole_array))\n",
    "result.argmin(axis=1)\n",
    "end = time.time()\n",
    "print(\"Running time of the algorithm\", (end-start)*1000)\n",
    "result.argmin(axis=1)"
   ]
  },
  {
   "cell_type": "code",
   "execution_count": 30,
   "metadata": {},
   "outputs": [],
   "source": [
    "# Image clustering using \n",
    "url = 'https://sk4a447dkf.execute-api.us-east-1.amazonaws.com/default/localize'\n",
    "json_data = requests.get(url).json()\n",
    "data = json_data['objects']\n",
    "images = []\n",
    "for cluster in data:\n",
    "    images.extend([cluster_image['image'] for cluster_image in cluster['cluster_objects']])\n"
   ]
  },
  {
   "cell_type": "code",
   "execution_count": null,
   "metadata": {},
   "outputs": [],
   "source": [
    "import wget\n",
    "for image in images:\n",
    "    wget.download(image)"
   ]
  },
  {
   "cell_type": "code",
   "execution_count": 29,
   "metadata": {},
   "outputs": [
    {
     "name": "stdout",
     "output_type": "stream",
     "text": [
      "    Status: 50 / 51\n",
      "\n",
      "    Copy: 50 / 51\r"
     ]
    }
   ],
   "source": [
    "from keras.preprocessing import image\n",
    "from keras.applications.vgg16 import VGG16\n",
    "from keras.applications.vgg16 import preprocess_input\n",
    "import numpy as np\n",
    "from sklearn.cluster import KMeans\n",
    "import os, shutil, glob, os.path\n",
    "from PIL import Image as pil_image\n",
    "image.LOAD_TRUNCATED_IMAGES = True \n",
    "model = VGG16(weights='imagenet', include_top=False)\n",
    "\n",
    "# Variables\n",
    "imdir = '/home/aswin/Documents/SmartCity-Localization/images'\n",
    "targetdir = \"/home/aswin/Documents/SmartCity-Localization/images/output/\"\n",
    "number_clusters = 6\n",
    "# Loop over files and get features\n",
    "filelist = glob.glob(os.path.join(imdir, '*.jpeg'))\n",
    "filelist.sort()\n",
    "featurelist = []\n",
    "for i, imagepath in enumerate(filelist):\n",
    "    print(\"    Status: %s / %s\" %(i, len(filelist)), end=\"\\r\")\n",
    "    img = image.load_img(imagepath, target_size=(224, 224))\n",
    "    img_data = image.img_to_array(img)\n",
    "    img_data = np.expand_dims(img_data, axis=0)\n",
    "    img_data = preprocess_input(img_data)\n",
    "    features = np.array(model.predict(img_data))\n",
    "    featurelist.append(features.flatten())\n",
    "\n",
    "# Clustering\n",
    "kmeans = KMeans(n_clusters=number_clusters, random_state=0).fit(np.array(featurelist))\n",
    "\n",
    "# Copy images renamed by cluster \n",
    "# Check if target dir exists\n",
    "try:\n",
    "    os.makedirs(targetdir)\n",
    "except OSError:\n",
    "    pass\n",
    "# Copy with cluster name\n",
    "print(\"\\n\")\n",
    "for i, m in enumerate(kmeans.labels_):\n",
    "    print(\"    Copy: %s / %s\" %(i, len(kmeans.labels_)), end=\"\\r\")\n",
    "    shutil.copy(filelist[i], targetdir + str(m) + \"_\" + str(i) + \".jpg\")"
   ]
  },
  {
   "cell_type": "code",
   "execution_count": null,
   "metadata": {},
   "outputs": [],
   "source": [
    "# Network analysis"
   ]
  }
 ],
 "metadata": {
  "kernelspec": {
   "display_name": "Python 3",
   "language": "python",
   "name": "python3"
  },
  "language_info": {
   "codemirror_mode": {
    "name": "ipython",
    "version": 3
   },
   "file_extension": ".py",
   "mimetype": "text/x-python",
   "name": "python",
   "nbconvert_exporter": "python",
   "pygments_lexer": "ipython3",
   "version": "3.7.5"
  }
 },
 "nbformat": 4,
 "nbformat_minor": 2
}
