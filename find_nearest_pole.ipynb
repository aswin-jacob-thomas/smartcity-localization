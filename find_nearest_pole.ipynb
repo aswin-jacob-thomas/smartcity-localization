{
 "cells": [
  {
   "cell_type": "code",
   "execution_count": 1,
   "metadata": {},
   "outputs": [
    {
     "ename": "FileNotFoundError",
     "evalue": "[Errno 2] No such file or directory: 'houston.json'",
     "output_type": "error",
     "traceback": [
      "\u001b[0;31m---------------------------------------------------------------------------\u001b[0m",
      "\u001b[0;31mFileNotFoundError\u001b[0m                         Traceback (most recent call last)",
      "\u001b[0;32m<ipython-input-1-4091e69ec63c>\u001b[0m in \u001b[0;36m<module>\u001b[0;34m\u001b[0m\n\u001b[1;32m     12\u001b[0m \u001b[0;34m\u001b[0m\u001b[0m\n\u001b[1;32m     13\u001b[0m \u001b[0;31m# cluster_objects = [(cluster['cluster_latitude'], cluster['cluster_longitude']) for cluster in data ]\u001b[0m\u001b[0;34m\u001b[0m\u001b[0;34m\u001b[0m\u001b[0;34m\u001b[0m\u001b[0m\n\u001b[0;32m---> 14\u001b[0;31m \u001b[0;32mwith\u001b[0m \u001b[0mopen\u001b[0m\u001b[0;34m(\u001b[0m\u001b[0;34m'houston.json'\u001b[0m\u001b[0;34m)\u001b[0m \u001b[0;32mas\u001b[0m \u001b[0mcluster_data\u001b[0m\u001b[0;34m:\u001b[0m\u001b[0;34m\u001b[0m\u001b[0;34m\u001b[0m\u001b[0m\n\u001b[0m\u001b[1;32m     15\u001b[0m     \u001b[0mjson_data\u001b[0m \u001b[0;34m=\u001b[0m \u001b[0mjson\u001b[0m\u001b[0;34m.\u001b[0m\u001b[0mload\u001b[0m\u001b[0;34m(\u001b[0m\u001b[0mcluster_data\u001b[0m\u001b[0;34m)\u001b[0m\u001b[0;34m\u001b[0m\u001b[0;34m\u001b[0m\u001b[0m\n\u001b[1;32m     16\u001b[0m \u001b[0mcluster_objects\u001b[0m \u001b[0;34m=\u001b[0m \u001b[0;34m[\u001b[0m\u001b[0;34m]\u001b[0m\u001b[0;34m\u001b[0m\u001b[0;34m\u001b[0m\u001b[0m\n",
      "\u001b[0;31mFileNotFoundError\u001b[0m: [Errno 2] No such file or directory: 'houston.json'"
     ]
    }
   ],
   "source": [
    "import json\n",
    "import numpy as np\n",
    "import requests\n",
    "from geopy.distance import geodesic\n",
    "from itertools import product\n",
    "import utm\n",
    "import time\n",
    "\n",
    "# url = 'https://sk4a447dkf.execute-api.us-east-1.amazonaws.com/default/localize'\n",
    "# json_data = requests.get(url).json()\n",
    "# data = json_data['objects']\n",
    "\n",
    "# cluster_objects = [(cluster['cluster_latitude'], cluster['cluster_longitude']) for cluster in data ]\n",
    "with open('houston.json') as cluster_data:\n",
    "    json_data = json.load(cluster_data)\n",
    "cluster_objects = []\n",
    "for cluster in json_data:\n",
    "    cluster_objects.append(utm.to_latlon(cluster['A'], cluster['B'], 15, \"R\"))\n",
    "    \n",
    "with open('Pole.geojson') as data:\n",
    "    pole_data = json.loads(data.read())\n",
    "\n",
    "poles = [(pole['geometry']['coordinates'][1],pole['geometry']['coordinates'][0]) for pole in pole_data['features']]\n",
    "start = time.time()\n",
    "for cluster in cluster_objects:\n",
    "    distances = []\n",
    "    for pole in poles:\n",
    "        distances.append(geodesic(pole, cluster).km)\n",
    "    print(\"cluster location -->\", cluster, \" and the nearest pole number -->\", distances.index(min(distances)))\n",
    "\n",
    "end = time.time()\n",
    "print(\"Total time taken to run the algorithm is \",(end-start)*1000)"
   ]
  },
  {
   "cell_type": "code",
   "execution_count": 28,
   "metadata": {},
   "outputs": [
    {
     "name": "stdout",
     "output_type": "stream",
     "text": [
      "Running time of the algorithm 1.6279220581054688\n"
     ]
    },
    {
     "data": {
      "text/plain": [
       "array([ 63,  63, 257, 147,  63, 252, 144, 141,  94,  94])"
      ]
     },
     "execution_count": 28,
     "metadata": {},
     "output_type": "execute_result"
    }
   ],
   "source": [
    "from sklearn.metrics.pairwise import haversine_distances\n",
    "pole_array = []\n",
    "cluster_array = []\n",
    "for pole in poles:\n",
    "    pole_array.append(np.array(pole))\n",
    "pole_array = np.array(pole_array)\n",
    "\n",
    "for cluster in cluster_objects:\n",
    "    cluster_array.append(np.array(cluster))\n",
    "cluster_array = np.array(cluster_array)\n",
    "start = time.time()\n",
    "result = haversine_distances(np.radians(cluster_array), np.radians(pole_array))\n",
    "result.argmin(axis=1)\n",
    "end = time.time()\n",
    "print(\"Running time of the algorithm\", (end-start)*1000)\n",
    "result.argmin(axis=1)"
   ]
  },
  {
   "cell_type": "code",
   "execution_count": 30,
   "metadata": {},
   "outputs": [],
   "source": [
    "# Image clustering using \n",
    "url = 'https://sk4a447dkf.execute-api.us-east-1.amazonaws.com/default/localize'\n",
    "json_data = requests.get(url).json()\n",
    "data = json_data['objects']\n",
    "images = []\n",
    "for cluster in data:\n",
    "    images.extend([cluster_image['image'] for cluster_image in cluster['cluster_objects']])\n"
   ]
  },
  {
   "cell_type": "code",
   "execution_count": null,
   "metadata": {},
   "outputs": [],
   "source": [
    "import wget\n",
    "for image in images:\n",
    "    wget.download(image)"
   ]
  },
  {
   "cell_type": "code",
   "execution_count": 29,
   "metadata": {},
   "outputs": [
    {
     "name": "stdout",
     "output_type": "stream",
     "text": [
      "    Status: 50 / 51\n",
      "\n",
      "    Copy: 50 / 51\r"
     ]
    }
   ],
   "source": [
    "from keras.preprocessing import image\n",
    "from keras.applications.vgg16 import VGG16\n",
    "from keras.applications.vgg16 import preprocess_input\n",
    "import numpy as np\n",
    "from sklearn.cluster import KMeans\n",
    "import os, shutil, glob, os.path\n",
    "from PIL import Image as pil_image\n",
    "image.LOAD_TRUNCATED_IMAGES = True \n",
    "model = VGG16(weights='imagenet', include_top=False)\n",
    "\n",
    "# Variables\n",
    "imdir = '/home/aswin/Documents/SmartCity-Localization/images'\n",
    "targetdir = \"/home/aswin/Documents/SmartCity-Localization/images/output/\"\n",
    "number_clusters = 6\n",
    "# Loop over files and get features\n",
    "filelist = glob.glob(os.path.join(imdir, '*.jpeg'))\n",
    "filelist.sort()\n",
    "featurelist = []\n",
    "for i, imagepath in enumerate(filelist):\n",
    "    print(\"    Status: %s / %s\" %(i, len(filelist)), end=\"\\r\")\n",
    "    img = image.load_img(imagepath, target_size=(224, 224))\n",
    "    img_data = image.img_to_array(img)\n",
    "    img_data = np.expand_dims(img_data, axis=0)\n",
    "    img_data = preprocess_input(img_data)\n",
    "    features = np.array(model.predict(img_data))\n",
    "    featurelist.append(features.flatten())\n",
    "\n",
    "# Clustering\n",
    "kmeans = KMeans(n_clusters=number_clusters, random_state=0).fit(np.array(featurelist))\n",
    "\n",
    "# Copy images renamed by cluster \n",
    "# Check if target dir exists\n",
    "try:\n",
    "    os.makedirs(targetdir)\n",
    "except OSError:\n",
    "    pass\n",
    "# Copy with cluster name\n",
    "print(\"\\n\")\n",
    "for i, m in enumerate(kmeans.labels_):\n",
    "    print(\"    Copy: %s / %s\" %(i, len(kmeans.labels_)), end=\"\\r\")\n",
    "    shutil.copy(filelist[i], targetdir + str(m) + \"_\" + str(i) + \".jpg\")"
   ]
  },
  {
   "cell_type": "code",
   "execution_count": null,
   "metadata": {},
   "outputs": [],
   "source": [
    "# Network analysis"
   ]
  }
 ],
 "metadata": {
  "kernelspec": {
   "display_name": "Python 3",
   "language": "python",
   "name": "python3"
  },
  "language_info": {
   "codemirror_mode": {
    "name": "ipython",
    "version": 3
   },
   "file_extension": ".py",
   "mimetype": "text/x-python",
   "name": "python",
   "nbconvert_exporter": "python",
   "pygments_lexer": "ipython3",
   "version": "3.7.5"
  }
 },
 "nbformat": 4,
 "nbformat_minor": 2
}
