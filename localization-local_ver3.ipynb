{
 "cells": [
  {
   "cell_type": "code",
   "execution_count": 3,
   "metadata": {},
   "outputs": [],
   "source": [
    "import numpy as np\n",
    "from sklearn.cluster import MeanShift\n",
    "import utm\n",
    "from sklearn.cluster import MeanShift\n",
    "import statistics \n",
    "from statistics import mode \n",
    "import json\n",
    "import requests\n",
    "import time\n",
    "import os\n",
    "import geocoder\n",
    "import matplotlib.pyplot as plt\n",
    "from sklearn.metrics.pairwise import haversine_distances\n",
    "from tqdm import tqdm\n",
    "%matplotlib inline"
   ]
  },
  {
   "cell_type": "code",
   "execution_count": 10,
   "metadata": {},
   "outputs": [
    {
     "name": "stdout",
     "output_type": "stream",
     "text": [
      "3167.951822280884\n"
     ]
    }
   ],
   "source": [
    "#Make sure dt\n",
    "def lambda_handler(b1 = 50, b2 = 150, p = 250):\n",
    "    with open('data_ver3.json') as json_data:\n",
    "        \n",
    "        data = json.load(json_data)['data']\n",
    "        array = []\n",
    "        # Creating image array which contains all the images\n",
    "        data_array = []\n",
    "        # Creating a cordinate array which contains all the coordinates\n",
    "        cordinate_array = []\n",
    "\n",
    "        zone_array = []\n",
    "\n",
    "        #add magnetic declination adjustment in College Station = 2.85°, in Houston = 2.28°\n",
    "        \n",
    "        for d in data:\n",
    "            ut_cordinates = utm.from_latlon(d['latitude'], d['longitude'])\n",
    "            t_list = [ut_cordinates[0],ut_cordinates[1],d['compass']+2.28]\n",
    "            data_array.append(d)\n",
    "            cordinate_array.append(ut_cordinates[2])\n",
    "            zone_array.append(ut_cordinates[3])\n",
    "            array.append(t_list)\n",
    "        array = np.array(array)\n",
    "        data_array = np.array(data_array)\n",
    "        cordinate_array = np.array(cordinate_array)\n",
    "        zone_array = np.array(zone_array)\n",
    "        \n",
    "        \n",
    "        # Now the array will have latitude, longitude and compass as its columns\n",
    "        X = array[:,[0,1]]\n",
    "        # Now X will have only latitude and longitude values. Performing mean shift algorithm on the latitude and longitudes\n",
    "        ms = MeanShift(bandwidth=b1)\n",
    "        labels = ms.fit_predict(X)\n",
    "        cluster_centers = ms.cluster_centers_\n",
    "        labels = np.vstack(labels)\n",
    "\n",
    "        array = np.hstack((array,labels))\n",
    "        # Stacking the labels next to array. Now array contains latitude, longitude, compass, label\n",
    "        \n",
    "        return_value = []\n",
    "        \n",
    "        for cluster in range(len(cluster_centers)):\n",
    "            \n",
    "            current_cluster_result = {}\n",
    "            indices_of_cluster = np.where(array[:,3] == cluster)\n",
    "            # Here we take all the elements that belong to the current cluster and the indices are stored as indices_of cluster\n",
    "            \n",
    "            cluster_array = array[indices_of_cluster]  \n",
    "            len_of_cluster = len(cluster_array)\n",
    "            if len_of_cluster < 2:\n",
    "                continue\n",
    "                \n",
    "            compass_array = cluster_array[:,[2]]\n",
    "            a = np.tan(np.radians(90-compass_array))\n",
    "            b = np.ones(np.shape(compass_array))\n",
    "            c = np.multiply(a,cluster_array[:,[0]]) - cluster_array[:,[1]]\n",
    "            eq_coeff_cluster = np.hstack((a, -b ,c))\n",
    "            # we take the value of p as 300 just for analysing the time taken to run this\n",
    "            # Creating lines from the compass and the current point\n",
    "            p = p\n",
    "                \n",
    "            # Initializing the intersection of lines numpy array\n",
    "            pairwise_indices = np.random.randint(0, len_of_cluster , (p,2))\n",
    "            pairs = eq_coeff_cluster[pairwise_indices]\n",
    "            \n",
    "            A = pairs[:,:,:-1]\n",
    "            Y = pairs[:,:,-1:]\n",
    "            intersections_of_lines = np.squeeze(np.matmul(np.linalg.pinv(A),  Y))\n",
    "            \n",
    "            # Performing mean shift clustering and finding the cluster with the maximum number of points\n",
    "            # This center point is taken as the estimated center of the object\n",
    "            \n",
    "            start = time.time()\n",
    "            ms = MeanShift(bandwidth=b2)  \n",
    "            labels = (ms.fit_predict(intersections_of_lines)).tolist()\n",
    "            cluster_centers = ms.cluster_centers_\n",
    "            end = time.time()\n",
    "            \n",
    "            mode_of_labels = max(set(labels), key=labels.count)\n",
    "            current_cluster_result['cluster_id'] = cluster\n",
    "            current_cluster_result['cluster_item_count'] = len_of_cluster\n",
    "            \n",
    "            cordinate_list = (cordinate_array[indices_of_cluster]).tolist()\n",
    "            cordinate = max(set(cordinate_list), key=cordinate_list.count)\n",
    "            \n",
    "            zone_list = (zone_array[indices_of_cluster]).tolist()\n",
    "            zone = max(set(zone_list), key=zone_list.count)\n",
    "            lat_long = utm.to_latlon(cluster_centers[mode_of_labels][0], cluster_centers[mode_of_labels][1], cordinate, zone)\n",
    "            \n",
    "            current_cluster_result['cluster_latitude'] = lat_long[0]\n",
    "            current_cluster_result['cluster_longitude'] = lat_long[1]\n",
    "            current_cluster_result['cluster_objects'] = (data_array[indices_of_cluster]).tolist()\n",
    "\n",
    "            return_value.append(current_cluster_result)\n",
    "            \n",
    "        return {\n",
    "            \"statusCode\": 200,\n",
    "            \"body\": {'objects': return_value}\n",
    "        }\n",
    "start = time.time()\n",
    "lambda_handler()\n",
    "end = time.time()\n",
    "print((end-start)*1000)"
   ]
  },
  {
   "cell_type": "code",
   "execution_count": 7,
   "metadata": {},
   "outputs": [],
   "source": [
    "def goodness(b1=50, b2=100, p=100):\n",
    "    results = lambda_handler(b1=b1, b2=b2,p=p)['body']['objects']\n",
    "    cluster_centers = [[cluster['cluster_latitude'], cluster['cluster_longitude']]for cluster in results]\n",
    "    cluster_centers = np.array(cluster_centers)\n",
    "    \n",
    "    json_data = open('data_ver3.json') \n",
    "    data = json.load(json_data)['data']\n",
    "    collected_data = [[d['latitude'], d['longitude']] for d in data]\n",
    "    collected_data = np.array(collected_data)\n",
    "    json_data.close()\n",
    "    \n",
    "    true_data = [[29.70154390339952, -95.39209601022654],[29.70428338419638, -95.39100648039813], [29.703335743447496, -95.39130824050142], [29.702188761458533, -95.3936918414558], [29.702691697389692, -95.39530032710667], [29.703085520490866, -95.39629883360872], [29.722233773075338, -95.36705220231357],[29.72526628586194, -95.37240452291601], [29.72734309820575, -95.375255487577], [29.728189612898646, -95.37701142524726],[29.729725295675568, -95.38003134004325], [29.73117267948174, -95.38260255498517],[29.731857687219605, -95.38404510951365],[29.756970123575087, -95.37525775033865], [29.7552538566023, -95.37571750526642],[29.755200480497276, -95.3794874504529],[29.75464650875399, -95.38024579642178],[29.754603020003177, -95.38300456681712],[29.752629019819906, -95.38306070220811], [29.752095895517666, -95.38491481879633]]\n",
    "    true_data = np.array(true_data)\n",
    "    \n",
    "    return collected_data, cluster_centers, true_data\n"
   ]
  },
  {
   "cell_type": "code",
   "execution_count": 12,
   "metadata": {},
   "outputs": [
    {
     "name": "stdout",
     "output_type": "stream",
     "text": [
      "[ 3.28945827  1.64553149  1.79561467  9.89023797  5.55574115  4.5762624\n",
      "  2.86805439  0.98266886  4.22234964  6.15877341  4.49908249 12.08479072\n",
      "  1.83619001  6.03581563  5.37632299  3.45731088  3.84873669  4.69809211\n",
      "  0.54194875  1.02391525]\n",
      "Mean error is 4.2193448880646764m\n",
      "Maximum error is 12.084790715831167m\n"
     ]
    },
    {
     "data": {
      "text/plain": [
       "(4.2193448880646764, 12.084790715831167)"
      ]
     },
     "execution_count": 12,
     "metadata": {},
     "output_type": "execute_result"
    }
   ],
   "source": [
    "def find_Error(b1, b2, p, print_data = True):\n",
    "    collected_data, cluster_centers, true_data = goodness(b1, b2, p)\n",
    "    radians_in_m = 6371000\n",
    "    result = haversine_distances(np.radians(true_data), np.radians(cluster_centers)) * radians_in_m\n",
    "    min_distances = result.min(axis=1)\n",
    "\n",
    "    new_cluster_center = cluster_centers[np.argmin(result, axis=1)]\n",
    "    mean = min_distances.mean()\n",
    "    maxim = min_distances.max()\n",
    "    if print_data:\n",
    "        print(min_distances)\n",
    "        print(\"Mean error is {}m\".format(mean))\n",
    "        print(\"Maximum error is {}m\".format(maxim))\n",
    "    return mean, maxim\n",
    "\n",
    "find_Error(50,100,100)"
   ]
  },
  {
   "cell_type": "code",
   "execution_count": null,
   "metadata": {},
   "outputs": [],
   "source": [
    "def plot_variation():\n",
    "    mean_array = []\n",
    "    maxim_array = []\n",
    "    for i in tqdm(range(20)):\n",
    "        mean, maxim = find_Error(50, 100, 100, print_data=False)\n",
    "        mean_array.append(mean)\n",
    "        maxim_array.append(maxim)\n",
    "    fig = plt.figure(0)\n",
    "    plt.plot(np.arange(20), mean_array, 'r-', label=\"Mean Error\")\n",
    "    plt.plot(np.arange(20), maxim_array, 'b--', label=\"Maximum Error\")\n",
    "    plt.xlabel(\"Number of iterations\")\n",
    "    plt.ylabel(\"Distance in meters\")\n",
    "    plt.legend()\n",
    "    plt.savefig('single_parameter_variations.png')\n",
    "    plt.show()\n",
    "    print(\"Mean error of 20 iterations is {}\".format(np.array(mean_array).mean()))\n",
    "    print(\"Mean max error of 20 iterations is {}\".format(np.array(maxim_array).mean()))\n",
    "plot_variation()"
   ]
  },
  {
   "cell_type": "code",
   "execution_count": 9,
   "metadata": {},
   "outputs": [
    {
     "name": "stderr",
     "output_type": "stream",
     "text": [
      "  0%|          | 0/5 [00:00<?, ?it/s]\n"
     ]
    },
    {
     "ename": "NameError",
     "evalue": "name 'cluster_centers' is not defined",
     "output_type": "error",
     "traceback": [
      "\u001b[0;31m---------------------------------------------------------------------------\u001b[0m",
      "\u001b[0;31mNameError\u001b[0m                                 Traceback (most recent call last)",
      "\u001b[0;32m<ipython-input-9-d3ec05d0e50b>\u001b[0m in \u001b[0;36m<module>\u001b[0;34m\u001b[0m\n\u001b[1;32m     15\u001b[0m     \u001b[0mplt\u001b[0m\u001b[0;34m.\u001b[0m\u001b[0msavefig\u001b[0m\u001b[0;34m(\u001b[0m\u001b[0;34m'single_parameter_variations_b2.png'\u001b[0m\u001b[0;34m)\u001b[0m\u001b[0;34m\u001b[0m\u001b[0;34m\u001b[0m\u001b[0m\n\u001b[1;32m     16\u001b[0m     \u001b[0mplt\u001b[0m\u001b[0;34m.\u001b[0m\u001b[0mshow\u001b[0m\u001b[0;34m(\u001b[0m\u001b[0;34m)\u001b[0m\u001b[0;34m\u001b[0m\u001b[0;34m\u001b[0m\u001b[0m\n\u001b[0;32m---> 17\u001b[0;31m \u001b[0mplot_variation_in_bandwidths\u001b[0m\u001b[0;34m(\u001b[0m\u001b[0;34m)\u001b[0m\u001b[0;34m\u001b[0m\u001b[0;34m\u001b[0m\u001b[0m\n\u001b[0m",
      "\u001b[0;32m<ipython-input-9-d3ec05d0e50b>\u001b[0m in \u001b[0;36mplot_variation_in_bandwidths\u001b[0;34m()\u001b[0m\n\u001b[1;32m      4\u001b[0m     \u001b[0mmaxim_array\u001b[0m\u001b[0;34m=\u001b[0m\u001b[0;34m[\u001b[0m\u001b[0;34m]\u001b[0m\u001b[0;34m\u001b[0m\u001b[0;34m\u001b[0m\u001b[0m\n\u001b[1;32m      5\u001b[0m     \u001b[0;32mfor\u001b[0m \u001b[0mb2\u001b[0m \u001b[0;32min\u001b[0m \u001b[0mtqdm\u001b[0m\u001b[0;34m(\u001b[0m\u001b[0mbandwidths\u001b[0m\u001b[0;34m)\u001b[0m\u001b[0;34m:\u001b[0m\u001b[0;34m\u001b[0m\u001b[0;34m\u001b[0m\u001b[0m\n\u001b[0;32m----> 6\u001b[0;31m         \u001b[0mmean\u001b[0m\u001b[0;34m,\u001b[0m \u001b[0mmaxim\u001b[0m \u001b[0;34m=\u001b[0m \u001b[0mfind_Error\u001b[0m\u001b[0;34m(\u001b[0m\u001b[0mcluster_centers\u001b[0m\u001b[0;34m,\u001b[0m \u001b[0mtrue_data\u001b[0m\u001b[0;34m,\u001b[0m \u001b[0;36m50\u001b[0m\u001b[0;34m,\u001b[0m \u001b[0mb2\u001b[0m\u001b[0;34m,\u001b[0m\u001b[0;36m300\u001b[0m\u001b[0;34m,\u001b[0m \u001b[0mprint_data\u001b[0m\u001b[0;34m=\u001b[0m\u001b[0;32mFalse\u001b[0m\u001b[0;34m)\u001b[0m\u001b[0;34m\u001b[0m\u001b[0;34m\u001b[0m\u001b[0m\n\u001b[0m\u001b[1;32m      7\u001b[0m         \u001b[0mmean_array\u001b[0m\u001b[0;34m.\u001b[0m\u001b[0mappend\u001b[0m\u001b[0;34m(\u001b[0m\u001b[0mmean\u001b[0m\u001b[0;34m)\u001b[0m\u001b[0;34m\u001b[0m\u001b[0;34m\u001b[0m\u001b[0m\n\u001b[1;32m      8\u001b[0m         \u001b[0mmaxim_array\u001b[0m\u001b[0;34m.\u001b[0m\u001b[0mappend\u001b[0m\u001b[0;34m(\u001b[0m\u001b[0mmaxim\u001b[0m\u001b[0;34m)\u001b[0m\u001b[0;34m\u001b[0m\u001b[0;34m\u001b[0m\u001b[0m\n",
      "\u001b[0;31mNameError\u001b[0m: name 'cluster_centers' is not defined"
     ]
    }
   ],
   "source": [
    "def plot_variation_in_bandwidths():\n",
    "    bandwidths = [100, 150, 200, 250, 300]\n",
    "    mean_array=[]\n",
    "    maxim_array=[]\n",
    "    for b2 in tqdm(bandwidths):\n",
    "        mean, maxim = find_Error(cluster_centers, true_data, 50, b2,300, print_data=False)\n",
    "        mean_array.append(mean)\n",
    "        maxim_array.append(maxim)\n",
    "    fig = plt.figure(1)   \n",
    "    plt.plot(bandwidths, mean_array, 'r-', label=\"Mean Error\")\n",
    "    plt.plot(bandwidths, maxim_array, 'b--', label=\"Maximum Error\")\n",
    "    plt.xlabel(\"Bandwidth\")\n",
    "    plt.ylabel(\"Distance in meters\")\n",
    "    plt.legend()\n",
    "    plt.savefig('single_parameter_variations_b2.png')\n",
    "    plt.show()\n",
    "plot_variation_in_bandwidths()"
   ]
  },
  {
   "cell_type": "code",
   "execution_count": 130,
   "metadata": {},
   "outputs": [
    {
     "name": "stderr",
     "output_type": "stream",
     "text": [
      "\n",
      "\n",
      "\n",
      "\n",
      "  0%|          | 0/6 [00:00<?, ?it/s]\u001b[A\u001b[A\u001b[A\u001b[A\n",
      "\n",
      "\n",
      "\n",
      " 17%|█▋        | 1/6 [00:10<00:52, 10.45s/it]\u001b[A\u001b[A\u001b[A\u001b[A\n",
      "\n",
      "\n",
      "\n",
      " 33%|███▎      | 2/6 [00:25<00:46, 11.75s/it]\u001b[A\u001b[A\u001b[A\u001b[A\n",
      "\n",
      "\n",
      "\n",
      " 50%|█████     | 3/6 [00:37<00:36, 12.03s/it]\u001b[A\u001b[A\u001b[A\u001b[A\n",
      "\n",
      "\n",
      "\n",
      " 67%|██████▋   | 4/6 [00:52<00:25, 12.78s/it]\u001b[A\u001b[A\u001b[A\u001b[A\n",
      "\n",
      "\n",
      "\n",
      " 83%|████████▎ | 5/6 [01:08<00:13, 13.66s/it]\u001b[A\u001b[A\u001b[A\u001b[A\n",
      "\n",
      "\n",
      "\n",
      "100%|██████████| 6/6 [01:25<00:00, 14.20s/it]\u001b[A\u001b[A\u001b[A\u001b[A\n"
     ]
    },
    {
     "data": {
      "image/png": "[encoded data removed]",
      "text/plain": [
       "<Figure size 432x288 with 1 Axes>"
      ]
     },
     "metadata": {
      "needs_background": "light"
     },
     "output_type": "display_data"
    },
    {
     "data": {
      "text/plain": [
       "<Figure size 432x288 with 0 Axes>"
      ]
     },
     "metadata": {},
     "output_type": "display_data"
    }
   ],
   "source": [
    "def plot_variation_in_p():\n",
    "    p_values = [100, 200, 300, 400, 500, 600]\n",
    "    mean_array=[]\n",
    "    maxim_array=[]\n",
    "    for p in tqdm(p_values):\n",
    "        mean, maxim = find_Error(cluster_centers, true_data, 50, 150, p, print_data=False)\n",
    "        mean_array.append(mean)\n",
    "        maxim_array.append(maxim)\n",
    "    \n",
    "    figure = plt.figure()\n",
    "    plt.plot(p_values, mean_array, 'r-', label=\"Mean Error\")\n",
    "    plt.plot(p_values, maxim_array, 'b--', label=\"Maximum Error\")\n",
    "    plt.xlabel(\"P value range\")\n",
    "    plt.ylabel(\"Distance in meters\")\n",
    "    plt.legend()\n",
    "    plt.show()\n",
    "    plt.savefig('single_parameter_variations_p.png')\n",
    "    \n",
    "    \n",
    "plot_variation_in_p()"
   ]
  }
 ],
 "metadata": {
  "kernelspec": {
   "display_name": "Python 3",
   "language": "python",
   "name": "python3"
  },
  "language_info": {
   "codemirror_mode": {
    "name": "ipython",
    "version": 3
   },
   "file_extension": ".py",
   "mimetype": "text/x-python",
   "name": "python",
   "nbconvert_exporter": "python",
   "pygments_lexer": "ipython3",
   "version": "3.7.5"
  }
 },
 "nbformat": 4,
 "nbformat_minor": 2
}
